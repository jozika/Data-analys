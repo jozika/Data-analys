{
 "cells": [
  {
   "cell_type": "code",
   "execution_count": 3,
   "id": "dd0b2c91-3220-4acb-b629-a0cd0ca3b49e",
   "metadata": {},
   "outputs": [
    {
     "name": "stdout",
     "output_type": "stream",
     "text": [
      "       year  annual_edition                                       category  \\\n",
      "0      2024              67  Best Boxed Or Special Limited Edition Package   \n",
      "1      2024              67                  Best Instrumental Composition   \n",
      "2      2024              67                           Best Opera Recording   \n",
      "3      2024              67               Best Classical Instrumental Solo   \n",
      "4      2024              67                Best Classical Solo Vocal Album   \n",
      "...     ...             ...                                            ...   \n",
      "25365  1958               1               Best Performance By An Orchestra   \n",
      "25366  1958               1               Best Performance By A Dance Band   \n",
      "25367  1958               1               Best Performance By A Dance Band   \n",
      "25368  1958               1               Best Performance By A Dance Band   \n",
      "25369  1958               1                               Best Arrangement   \n",
      "\n",
      "                                                  artist  \\\n",
      "0      Nick Azinas & Mike Hicks, art directors (Alpha...   \n",
      "1                                                    NaN   \n",
      "2      John Adams, conductor; Paul Appleby, Julia Bul...   \n",
      "3                                             Andy Akiho   \n",
      "4                                                    NaN   \n",
      "...                                                  ...   \n",
      "25365                                    George Shearing   \n",
      "25366                                        Count Basie   \n",
      "25367        Warren Covington And Tommy Dorsey Orcehstra   \n",
      "25368                                        Ray Anthony   \n",
      "25369                                                NaN   \n",
      "\n",
      "                                               producers  \\\n",
      "0                                                    NaN   \n",
      "1                                                Strands   \n",
      "2                                                    NaN   \n",
      "3                                                    NaN   \n",
      "4      Beyond The Years - Unpublished Songs Of Floren...   \n",
      "...                                                  ...   \n",
      "25365                                                NaN   \n",
      "25366                                                NaN   \n",
      "25367                                                NaN   \n",
      "25368                                                NaN   \n",
      "25369                          The Music From Peter Gunn   \n",
      "\n",
      "                                           song_or_album  winner  \\\n",
      "0                                     Half Living Things   False   \n",
      "1                                                Strands    True   \n",
      "2                        Adams: Girls Of The Golden West   False   \n",
      "3                                         Akiho: Longing   False   \n",
      "4      Beyond The Years - Unpublished Songs Of Floren...    True   \n",
      "...                                                  ...     ...   \n",
      "25365                            Burnished Brass (Album)   False   \n",
      "25366                                              Basie    True   \n",
      "25367                                Tea For Two Cha Cha   False   \n",
      "25368                                         Peter Gunn   False   \n",
      "25369                          The Music From Peter Gunn    True   \n",
      "\n",
      "                                                     url  \n",
      "0      https://www.grammy.com/awards/67th-annual-gram...  \n",
      "1      https://www.grammy.com/awards/67th-annual-gram...  \n",
      "2      https://www.grammy.com/awards/67th-annual-gram...  \n",
      "3      https://www.grammy.com/awards/67th-annual-gram...  \n",
      "4      https://www.grammy.com/awards/67th-annual-gram...  \n",
      "...                                                  ...  \n",
      "25365  https://www.grammy.com/awards/1st-annual-gramm...  \n",
      "25366  https://www.grammy.com/awards/1st-annual-gramm...  \n",
      "25367  https://www.grammy.com/awards/1st-annual-gramm...  \n",
      "25368  https://www.grammy.com/awards/1st-annual-gramm...  \n",
      "25369  https://www.grammy.com/awards/1st-annual-gramm...  \n",
      "\n",
      "[25370 rows x 8 columns]\n"
     ]
    }
   ],
   "source": [
    "import pandas as pd\n",
    "\n",
    "GW = pd.read_csv('grammy_winners.csv')\n",
    "\n",
    "print(GW)\n"
   ]
  },
  {
   "cell_type": "code",
   "execution_count": null,
   "id": "9e1a44c1-3371-4f1a-b484-b838ff40c54a",
   "metadata": {},
   "outputs": [],
   "source": []
  }
 ],
 "metadata": {
  "kernelspec": {
   "display_name": "Python 3 (ipykernel)",
   "language": "python",
   "name": "python3"
  },
  "language_info": {
   "codemirror_mode": {
    "name": "ipython",
    "version": 3
   },
   "file_extension": ".py",
   "mimetype": "text/x-python",
   "name": "python",
   "nbconvert_exporter": "python",
   "pygments_lexer": "ipython3",
   "version": "3.12.7"
  }
 },
 "nbformat": 4,
 "nbformat_minor": 5
}
